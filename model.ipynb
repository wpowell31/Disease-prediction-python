{
 "cells": [
  {
   "cell_type": "code",
   "execution_count": 2,
   "metadata": {},
   "outputs": [
    {
     "name": "stdout",
     "output_type": "stream",
     "text": [
      "Train: (3936, 132), (3936,)\n",
      "Test: (984, 132), (984,)\n",
      "============================================================\n",
      "SVC\n",
      "Scores: [1. 1. 1. 1. 1. 1. 1. 1. 1. 1.]\n",
      "Mean Score: 1.0\n",
      "============================================================\n",
      "Gaussian NB\n",
      "Scores: [1. 1. 1. 1. 1. 1. 1. 1. 1. 1.]\n",
      "Mean Score: 1.0\n",
      "============================================================\n",
      "Random Forest\n",
      "Scores: [1. 1. 1. 1. 1. 1. 1. 1. 1. 1.]\n",
      "Mean Score: 1.0\n"
     ]
    }
   ],
   "source": [
    "import numpy as np\n",
    "import pandas as pd\n",
    "from scipy.stats import mode\n",
    "import matplotlib.pyplot as plt\n",
    "#import seaborn as sns\n",
    "from sklearn.preprocessing import LabelEncoder\n",
    "from sklearn.model_selection import train_test_split, cross_val_score\n",
    "from sklearn.svm import SVC\n",
    "from sklearn.naive_bayes import GaussianNB\n",
    "from sklearn.ensemble import RandomForestClassifier\n",
    "from sklearn.metrics import accuracy_score, confusion_matrix\n",
    "\n",
    "\n",
    "# Reading the train.csv by removing the\n",
    "# last column since it's an empty column\n",
    "DATA_PATH = \"/Users/willpowell/Desktop/Disease-prediction-python/Training.csv\"\n",
    "data = pd.read_csv(DATA_PATH).dropna(axis = 1)\n",
    " \n",
    "# Checking whether the dataset is balanced or not\n",
    "disease_counts = data[\"prognosis\"].value_counts()\n",
    "temp_df = pd.DataFrame({\n",
    "    \"Disease\": disease_counts.index,\n",
    "    \"Counts\": disease_counts.values\n",
    "})\n",
    "\n",
    "# Encoding the target value into numerical\n",
    "# value using LabelEncoder\n",
    "encoder = LabelEncoder()\n",
    "data[\"prognosis\"] = encoder.fit_transform(data[\"prognosis\"])\n",
    "\n",
    "X = data.iloc[:,:-1]\n",
    "y = data.iloc[:, -1]\n",
    "X_train, X_test, y_train, y_test =train_test_split(\n",
    "  X, y, test_size = 0.2, random_state = 24)\n",
    " \n",
    "print(f\"Train: {X_train.shape}, {y_train.shape}\")\n",
    "print(f\"Test: {X_test.shape}, {y_test.shape}\")\n",
    "\n",
    "# Defining scoring metric for k-fold cross validation\n",
    "def cv_scoring(estimator, X, y):\n",
    "    return accuracy_score(y, estimator.predict(X))\n",
    " \n",
    "# Initializing Models\n",
    "models = {\n",
    "    \"SVC\":SVC(),\n",
    "    \"Gaussian NB\":GaussianNB(),\n",
    "    \"Random Forest\":RandomForestClassifier(random_state=18)\n",
    "}\n",
    " \n",
    "# Producing cross validation score for the models\n",
    "for model_name in models:\n",
    "    model = models[model_name]\n",
    "    scores = cross_val_score(model, X, y, cv = 10,\n",
    "                             n_jobs = -1,\n",
    "                             scoring = cv_scoring)\n",
    "    print(\"==\"*30)\n",
    "    print(model_name)\n",
    "    print(f\"Scores: {scores}\")\n",
    "    print(f\"Mean Score: {np.mean(scores)}\")"
   ]
  },
  {
   "cell_type": "code",
   "execution_count": 3,
   "metadata": {},
   "outputs": [
    {
     "name": "stdout",
     "output_type": "stream",
     "text": [
      "Accuracy on train data by SVM Classifier: 100.0\n",
      "Accuracy on test data by SVM Classifier: 100.0\n",
      "Accuracy on train data by Naive Bayes Classifier: 100.0\n",
      "Accuracy on test data by Naive Bayes Classifier: 100.0\n",
      "Accuracy on train data by Random Forest Classifier: 100.0\n",
      "Accuracy on test data by Random Forest Classifier: 100.0\n"
     ]
    }
   ],
   "source": [
    "# Training and testing SVM Classifier\n",
    "svm_model = SVC()\n",
    "svm_model.fit(X_train, y_train)\n",
    "preds = svm_model.predict(X_test)\n",
    " \n",
    "print(f\"Accuracy on train data by SVM Classifier\\\n",
    ": {accuracy_score(y_train, svm_model.predict(X_train))*100}\")\n",
    " \n",
    "print(f\"Accuracy on test data by SVM Classifier\\\n",
    ": {accuracy_score(y_test, preds)*100}\")\n",
    "cf_matrix = confusion_matrix(y_test, preds)\n",
    "#plt.figure(figsize=(12,8))\n",
    "#sns.heatmap(cf_matrix, annot=True)\n",
    "#plt.title(\"Confusion Matrix for SVM Classifier on Test Data\")\n",
    "##plt.show()\n",
    "# \n",
    "# Training and testing Naive Bayes Classifier\n",
    "nb_model = GaussianNB()\n",
    "nb_model.fit(X_train, y_train)\n",
    "preds = nb_model.predict(X_test)\n",
    "print(f\"Accuracy on train data by Naive Bayes Classifier\\\n",
    ": {accuracy_score(y_train, nb_model.predict(X_train))*100}\")\n",
    " \n",
    "print(f\"Accuracy on test data by Naive Bayes Classifier\\\n",
    ": {accuracy_score(y_test, preds)*100}\")\n",
    "cf_matrix = confusion_matrix(y_test, preds)\n",
    "#plt.figure(figsize=(12,8))\n",
    "#sns.heatmap(cf_matrix, annot=True)\n",
    "#plt.title(\"Confusion Matrix for Naive Bayes Classifier on Test Data\")\n",
    "##plt.show()\n",
    " \n",
    "# Training and testing Random Forest Classifier\n",
    "rf_model = RandomForestClassifier(random_state=18)\n",
    "rf_model.fit(X_train, y_train)\n",
    "preds = rf_model.predict(X_test)\n",
    "print(f\"Accuracy on train data by Random Forest Classifier\\\n",
    ": {accuracy_score(y_train, rf_model.predict(X_train))*100}\")\n",
    " \n",
    "print(f\"Accuracy on test data by Random Forest Classifier\\\n",
    ": {accuracy_score(y_test, preds)*100}\")\n",
    " \n",
    "cf_matrix = confusion_matrix(y_test, preds)\n",
    "#plt.figure(figsize=(12,8))\n",
    "#sns.heatmap(cf_matrix, annot=True)\n",
    "#plt.title(\"Confusion Matrix for Random Forest Classifier on Test Data\")\n",
    "#plt.show()"
   ]
  }
 ],
 "metadata": {
  "kernelspec": {
   "display_name": "Python 3.10.9 64-bit",
   "language": "python",
   "name": "python3"
  },
  "language_info": {
   "codemirror_mode": {
    "name": "ipython",
    "version": 3
   },
   "file_extension": ".py",
   "mimetype": "text/x-python",
   "name": "python",
   "nbconvert_exporter": "python",
   "pygments_lexer": "ipython3",
   "version": "3.10.9"
  },
  "orig_nbformat": 4,
  "vscode": {
   "interpreter": {
    "hash": "b0fa6594d8f4cbf19f97940f81e996739fb7646882a419484c72d19e05852a7e"
   }
  }
 },
 "nbformat": 4,
 "nbformat_minor": 2
}
